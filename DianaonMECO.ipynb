{
 "cells": [
  {
   "cell_type": "code",
   "execution_count": 2,
   "id": "226c1e06-4c6f-4e89-8670-05d85b762d81",
   "metadata": {},
   "outputs": [
    {
     "name": "stderr",
     "output_type": "stream",
     "text": [
      "also installing the dependencies 'processx', 'xfun', 'lifecycle', 'glue', 'tidyselect', 'vctrs', 'scales', 'gargle', 'timechange', 'systemfonts', 'vroom', 'progress', 'callr', 'knitr', 'broom', 'conflicted', 'cli', 'dbplyr', 'dplyr', 'dtplyr', 'forcats', 'ggplot2', 'googledrive', 'googlesheets4', 'haven', 'hms', 'jsonlite', 'lubridate', 'magrittr', 'modelr', 'pillar', 'purrr', 'ragg', 'readr', 'readxl', 'reprex', 'rlang', 'rvest', 'stringr', 'tibble', 'tidyr', 'xml2'\n",
      "\n",
      "Warning message:\n",
      "\"unable to access index for repository https://cran.r-project.org/bin/windows/contrib/3.6:\n",
      "  cannot open URL 'https://cran.r-project.org/bin/windows/contrib/3.6/PACKAGES'\"Packages which are only available in source form, and may need\n",
      "  compilation of C/C++/Fortran: 'processx' 'xfun' 'glue' 'tidyselect'\n",
      "  'vctrs' 'scales' 'timechange' 'systemfonts' 'vroom' 'cli' 'dplyr'\n",
      "  'haven' 'jsonlite' 'lubridate' 'magrittr' 'purrr' 'ragg' 'readr'\n",
      "  'readxl' 'rlang' 'tibble' 'tidyr' 'xml2'\n"
     ]
    },
    {
     "name": "stdout",
     "output_type": "stream",
     "text": [
      "  These will not be installed\n"
     ]
    },
    {
     "name": "stderr",
     "output_type": "stream",
     "text": [
      "installing the source packages 'lifecycle', 'gargle', 'progress', 'callr', 'knitr', 'broom', 'conflicted', 'dbplyr', 'dtplyr', 'forcats', 'ggplot2', 'googledrive', 'googlesheets4', 'hms', 'modelr', 'pillar', 'reprex', 'rvest', 'stringr', 'tidyverse'\n",
      "\n",
      "Warning message in install.packages(\"tidyverse\"):\n",
      "\"installation of package 'lifecycle' had non-zero exit status\"Warning message in install.packages(\"tidyverse\"):\n",
      "\"installation of package 'callr' had non-zero exit status\"Warning message in install.packages(\"tidyverse\"):\n",
      "\"installation of package 'knitr' had non-zero exit status\"Warning message in install.packages(\"tidyverse\"):\n",
      "\"installation of package 'conflicted' had non-zero exit status\"Warning message in install.packages(\"tidyverse\"):\n",
      "\"installation of package 'gargle' had non-zero exit status\"Warning message in install.packages(\"tidyverse\"):\n",
      "\"installation of package 'dtplyr' had non-zero exit status\"Warning message in install.packages(\"tidyverse\"):\n",
      "\"installation of package 'forcats' had non-zero exit status\"Warning message in install.packages(\"tidyverse\"):\n",
      "\"installation of package 'ggplot2' had non-zero exit status\"Warning message in install.packages(\"tidyverse\"):\n",
      "\"installation of package 'hms' had non-zero exit status\"Warning message in install.packages(\"tidyverse\"):\n",
      "\"installation of package 'pillar' had non-zero exit status\"Warning message in install.packages(\"tidyverse\"):\n",
      "\"installation of package 'reprex' had non-zero exit status\"Warning message in install.packages(\"tidyverse\"):\n",
      "\"installation of package 'rvest' had non-zero exit status\"Warning message in install.packages(\"tidyverse\"):\n",
      "\"installation of package 'stringr' had non-zero exit status\"Warning message in install.packages(\"tidyverse\"):\n",
      "\"installation of package 'progress' had non-zero exit status\"Warning message in install.packages(\"tidyverse\"):\n",
      "\"installation of package 'broom' had non-zero exit status\"Warning message in install.packages(\"tidyverse\"):\n",
      "\"installation of package 'dbplyr' had non-zero exit status\"Warning message in install.packages(\"tidyverse\"):\n",
      "\"installation of package 'googledrive' had non-zero exit status\"Warning message in install.packages(\"tidyverse\"):\n",
      "\"installation of package 'googlesheets4' had non-zero exit status\"Warning message in install.packages(\"tidyverse\"):\n",
      "\"installation of package 'modelr' had non-zero exit status\"Warning message in install.packages(\"tidyverse\"):\n",
      "\"installation of package 'tidyverse' had non-zero exit status\""
     ]
    },
    {
     "ename": "ERROR",
     "evalue": "Error in library(tidyverse): there is no package called 'tidyverse'\n",
     "output_type": "error",
     "traceback": [
      "Error in library(tidyverse): there is no package called 'tidyverse'\nTraceback:\n",
      "1. library(tidyverse)"
     ]
    }
   ],
   "source": [
    "#Installing packages and libraries\n",
    "install.packages(\"tidyverse\")\n",
    "library(tidyverse)"
   ]
  },
  {
   "cell_type": "code",
   "execution_count": 3,
   "id": "622dd370-d503-403b-9757-2d11deb937ac",
   "metadata": {},
   "outputs": [],
   "source": [
    "#Extracting the relevant data\n",
    "relevant_data <- read.csv(\"MECOXCEL.csv\")[, c(6,8,9,10,11)]"
   ]
  },
  {
   "cell_type": "code",
   "execution_count": 4,
   "id": "7eb6253a-8568-4dd2-805f-25a786a0ed99",
   "metadata": {},
   "outputs": [],
   "source": [
    "#Making the necessary calculations\n",
    "relevant_data$freqfix <- relevant_data$nfix/relevant_data$trial.nwords\n",
    "relevant_data$freqnrun <- relevant_data$nrun/relevant_data$trial.nwords\n",
    "relevant_data$freqsac <- relevant_data$sac/relevant_data$trial.nwords\n",
    "relevant_data$freqskip <- relevant_data$skip/relevant_data$trial.nwords\n",
    "\n"
   ]
  },
  {
   "cell_type": "code",
   "execution_count": 5,
   "id": "7bd8f257-4d80-4bb7-9aaa-4ce714992754",
   "metadata": {},
   "outputs": [],
   "source": [
    "\n",
    "new_data <- relevant_data[, c(6,7,8,9)]"
   ]
  },
  {
   "cell_type": "code",
   "execution_count": 6,
   "id": "28edebcb-dca4-4c7d-b65e-892a51b2d321",
   "metadata": {},
   "outputs": [
    {
     "name": "stderr",
     "output_type": "stream",
     "text": [
      "Warning message:\n",
      "\"unable to access index for repository https://cran.r-project.org/bin/windows/contrib/3.6:\n",
      "  cannot open URL 'https://cran.r-project.org/bin/windows/contrib/3.6/PACKAGES'\"Package which is only available in source form, and may need\n",
      "  compilation of C/C++/Fortran: 'cluster'\n"
     ]
    },
    {
     "name": "stdout",
     "output_type": "stream",
     "text": [
      "  These will not be installed\n"
     ]
    },
    {
     "name": "stderr",
     "output_type": "stream",
     "text": [
      "Warning message:\n",
      "\"package 'cluster' was built under R version 3.6.3\""
     ]
    }
   ],
   "source": [
    "#Installing libraries and clusters\n",
    "install.packages(\"cluster\")\n",
    "library(cluster)"
   ]
  },
  {
   "cell_type": "code",
   "execution_count": 8,
   "id": "0079119e-fc1b-45e5-9cfb-7886854b7f31",
   "metadata": {},
   "outputs": [],
   "source": [
    "#Categorizing the data\n",
    "hierarchy <- diana(new_data)"
   ]
  },
  {
   "cell_type": "code",
   "execution_count": 9,
   "id": "4fc5863c-2230-4089-a905-1d87e8825464",
   "metadata": {},
   "outputs": [
    {
     "data": {
      "text/plain": [
       "NULL"
      ]
     },
     "metadata": {},
     "output_type": "display_data"
    },
    {
     "data": {
      "image/png": "[encoded data removed]",
      "text/plain": [
       "Plot with title \"Dendrogram of  diana(x = new_data)\""
      ]
     },
     "metadata": {},
     "output_type": "display_data"
    }
   ],
   "source": [
    "#Visualizing the resulting categorizations\n",
    "shown_tree <- pltree(hierarchy)\n",
    "shown_tree"
   ]
  },
  {
   "cell_type": "code",
   "execution_count": 11,
   "id": "8017ebb6-a7f9-4edb-8d0a-7ca573e0b49c",
   "metadata": {},
   "outputs": [],
   "source": [
    "#Extracting information about the categories' relations to each other\n",
    "converted_hierarchy <- as.hclust(hierarchy)\n",
    "cluster_assignment <- cutree(converted_hierarchy, k=ceiling(nrow(new_data)*0.9))\n",
    "\n",
    "# Initializing a list to hold the data for each cluster\n",
    "cluster_data <- list()\n",
    "\n",
    "# Looping through the number of clusters and extracting data\n",
    "for (k in unique(cluster_assignment)) {\n",
    "  cluster_data[[k]] <- new_data[cluster_assignment == k, ]\n",
    "}\n"
   ]
  },
  {
   "cell_type": "code",
   "execution_count": 15,
   "id": "ec10bd37-63bc-4dfa-8c63-d8fb00bc0ef1",
   "metadata": {},
   "outputs": [],
   "source": [
    "# Looping through each cluster to calculate the mean of each feature\n",
    "cluster_means <- lapply(unique(cluster_assignment), function(cluster_id) {\n",
    "  cluster_data <- new_data[cluster_assignment == cluster_id, ]\n",
    "  colMeans(cluster_data, na.rm = TRUE) # na.rm = TRUE to remove NA values in the calculation\n",
    "})\n",
    "names(cluster_means) <- paste(\"Cluster\", unique(cluster_assignment))\n"
   ]
  },
  {
   "cell_type": "code",
   "execution_count": 17,
   "id": "36d44d81-6491-4249-ae20-f7d705c2ec6d",
   "metadata": {},
   "outputs": [
    {
     "data": {
      "text/html": [
       "434"
      ],
      "text/latex": [
       "434"
      ],
      "text/markdown": [
       "434"
      ],
      "text/plain": [
       "[1] 434"
      ]
     },
     "metadata": {},
     "output_type": "display_data"
    }
   ],
   "source": [
    "length(unique(cluster_assignment))"
   ]
  },
  {
   "cell_type": "code",
   "execution_count": 18,
   "id": "22379da4-785c-42e1-9415-bfc7d1310e36",
   "metadata": {},
   "outputs": [
    {
     "name": "stdout",
     "output_type": "stream",
     "text": [
      "[1] \"Last Cluster:\"\n",
      " freqfix \n",
      "1.648966 \n"
     ]
    }
   ],
   "source": [
    "#Comparing the data for each cluster to the data for dyslexic from the previous dataset, using Euclidean distance\n",
    "\n",
    "#Last Cluster\n",
    "freqfix7 <- cluster_means[[\"Cluster 434\"]][\"freqfix\"] - 0.9986012304411283\n",
    "freqnrun7 <- cluster_means[[\"Cluster 434\"]][\"freqnrun\"] - 0.9991105514353424\n",
    "freqsac7 <- cluster_means[[\"Cluster 434\"]][\"freqsac\"] - 0.999131994453176\n",
    "freqskip7 <- cluster_means[[\"Cluster 434\"]][\"freqskip\"] - 0.9993646786746376\n",
    "print(\"Last Cluster:\")\n",
    "print(sqrt(un7*un7 + deux7*deux7 + trois7*trois7 + quatre7*quatre7))"
   ]
  }
 ],
 "metadata": {
  "kernelspec": {
   "display_name": "R",
   "language": "R",
   "name": "ir"
  },
  "language_info": {
   "codemirror_mode": "r",
   "file_extension": ".r",
   "mimetype": "text/x-r-source",
   "name": "R",
   "pygments_lexer": "r",
   "version": "3.6.1"
  }
 },
 "nbformat": 4,
 "nbformat_minor": 5
}
